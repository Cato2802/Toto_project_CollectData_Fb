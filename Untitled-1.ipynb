{
 "cells": [
  {
   "cell_type": "code",
   "execution_count": 34,
   "metadata": {},
   "outputs": [
    {
     "name": "stdout",
     "output_type": "stream",
     "text": [
      "No data found in response.\n"
     ]
    }
   ],
   "source": [
    "import requests\n",
    "import pandas as pd\n",
    "import json\n",
    "\n",
    "page_id = '100088359498299' # your page id, ex: '123456789'\n",
    "post_id = '177202871901695' # your post id, ex: '123456789'\n",
    "access_token = 'EAAVp8WIkYI0BAI5uf8L5v7uVOKa7WJmJi2alshohpeljgN3eZBneRfa9jyV3SWTdsPT1IeRGIWU94ufNCtBXUUA8mGHZCxepC5ZCh7ZA2caB9UcYVY8vLNPcXhRT8kCVzm9FoVZBMZAXC0FdHZCRFFqkDoiMHErBbn2KwCZBqPWb2CT050ARo5LZB' # your access token, from https://developers.facebook.com/tools/explorer/\n",
    "\n",
    "url = f'https://graph.facebook.com/v16.0/{page_id}_{post_id}/comments?access_token={access_token}'\n",
    "\n",
    "response = requests.request(\"GET\", url)\n",
    "\n",
    "# save name, time, message in excel file\n",
    "data = json.loads(response.text)\n",
    "\n",
    "# create object with only name, time, message\n",
    "def get_comment(comment):\n",
    "    return {\n",
    "        'name': comment['from']['name'],\n",
    "        'time': comment['created_time'],\n",
    "        'message': comment['message']\n",
    "    }\n",
    "\n",
    "if 'data' in data:\n",
    "    excel_data = list(map(get_comment, data['data']))\n",
    "    df = pd.DataFrame(excel_data)\n",
    "    df.to_excel('comments.xlsx', index=False)\n",
    "else:\n",
    "    print(\"No data found in response.\")"
   ]
  },
  {
   "cell_type": "code",
   "execution_count": 42,
   "metadata": {},
   "outputs": [],
   "source": [
    "import requests\n",
    "import pandas as pd\n",
    "import json\n",
    "\n",
    "page_id = '112902028325244' # your page id, ex: '123456789'\n",
    "post_id = '165931349695514' # your post id, ex: '123456789'\n",
    "access_token = 'EAAVp8WIkYI0BADi1Eem0s1vvZCYCfUrkEk7MZBZB3rmgXPqML5374PyheFvz5jWLZC9H012vLIYV9fHLuPeEwQXnpCZAPDqNoXQcJ9Ncq0rrlQmMZBQ3xEKEl3Af9pcC3ZCwxnGHMA3ZCMs9XazikstQWzJrKcNu0ZB6ySwMU2X7gC1owYZB3jyHDl' # your access token, from https://developers.facebook.com/tools/explorer/\n",
    "\n",
    "url = f'https://graph.facebook.com/v16.0/{page_id}_{post_id}/comments?access_token={access_token}&limit=2000'\n",
    "\n",
    "response = requests.request(\"GET\", url)\n",
    "\n",
    "# save name, time, message in excel file\n",
    "data = json.loads(response.text)\n",
    "\n",
    "# create object with only name, time, message\n",
    "def get_comment(comment):\n",
    "    name = None\n",
    "    if 'from' in comment and 'name' in comment['from']:\n",
    "        name = comment['from']['name']\n",
    "    time = comment['created_time']\n",
    "    message = comment['message']\n",
    "    return {\n",
    "        'name': name,\n",
    "        'time': time,\n",
    "        'message': message\n",
    "    }\n",
    "\n",
    "if 'data' in data:\n",
    "    excel_data = list(map(get_comment, data['data']))\n",
    "    df = pd.DataFrame(excel_data)\n",
    "    df.to_excel('comments.xlsx', index=False)\n",
    "else:\n",
    "    print(\"No data found in response.\")\n"
   ]
  }
 ],
 "metadata": {
  "kernelspec": {
   "display_name": "Python 3",
   "language": "python",
   "name": "python3"
  },
  "language_info": {
   "codemirror_mode": {
    "name": "ipython",
    "version": 3
   },
   "file_extension": ".py",
   "mimetype": "text/x-python",
   "name": "python",
   "nbconvert_exporter": "python",
   "pygments_lexer": "ipython3",
   "version": "3.11.2"
  },
  "orig_nbformat": 4
 },
 "nbformat": 4,
 "nbformat_minor": 2
}
